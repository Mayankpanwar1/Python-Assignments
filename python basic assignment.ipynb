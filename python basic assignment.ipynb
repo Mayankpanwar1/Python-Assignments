{
 "cells": [
  {
   "cell_type": "markdown",
   "id": "f6b971dc-61d9-442d-ae4b-4eaec871eec0",
   "metadata": {},
   "source": [
    "Ans-1. A variable name must start with a letter or the underscore character. A variable name cannot start with a number. A variable name can only contain alpha-numeric characters and underscores (A-z, 0-9, and _ ) Variable names are case-sensitive (age, Age and AGE are three different variables)"
   ]
  },
  {
   "cell_type": "markdown",
   "id": "5c0d9d93-98d1-479c-8675-e2f88c1d55f6",
   "metadata": {},
   "source": [
    "Ans-2. If we declare a restricted keyword such as True as a variable, it will not assign to True."
   ]
  },
  {
   "cell_type": "code",
   "execution_count": 1,
   "id": "9921e0dd-5605-4109-8ea8-add6a9adbf6a",
   "metadata": {},
   "outputs": [
    {
     "ename": "SyntaxError",
     "evalue": "cannot assign to True (95727510.py, line 1)",
     "output_type": "error",
     "traceback": [
      "\u001b[0;36m  Cell \u001b[0;32mIn[1], line 1\u001b[0;36m\u001b[0m\n\u001b[0;31m    True=2\u001b[0m\n\u001b[0m    ^\u001b[0m\n\u001b[0;31mSyntaxError\u001b[0m\u001b[0;31m:\u001b[0m cannot assign to True\n"
     ]
    }
   ],
   "source": [
    "True=2"
   ]
  },
  {
   "cell_type": "markdown",
   "id": "bf409f93-eb71-4a1d-84df-89f05e0497bb",
   "metadata": {},
   "source": [
    "Ans-3. Yes we can declare a string as a variable "
   ]
  },
  {
   "cell_type": "code",
   "execution_count": 2,
   "id": "7ee531a8-2f2b-4dc8-84b1-81c0fd1a634d",
   "metadata": {},
   "outputs": [],
   "source": [
    "a='Mayank'"
   ]
  },
  {
   "cell_type": "code",
   "execution_count": 6,
   "id": "da6827df-b063-4ca4-81fb-c4e4459c099b",
   "metadata": {},
   "outputs": [],
   "source": [
    "Mayank=\"Millionaire\""
   ]
  },
  {
   "cell_type": "markdown",
   "id": "0333b048-add2-4e8a-a8bc-6857d11c2d4c",
   "metadata": {},
   "source": [
    "Ans-4. Yes we can declare '_' as a variable"
   ]
  },
  {
   "cell_type": "code",
   "execution_count": 8,
   "id": "ffc100f0-2d35-417a-a4c3-436ecb057770",
   "metadata": {},
   "outputs": [],
   "source": [
    "_=10"
   ]
  },
  {
   "cell_type": "code",
   "execution_count": 9,
   "id": "b1c2e043-094a-489a-a3ff-8481be04b166",
   "metadata": {},
   "outputs": [],
   "source": [
    "## Ans-5. Variables in python are dynamic in nature as we can assign same variable to different data and old data will automatically be deleted\n",
    "## For e.g.\n",
    "a=10"
   ]
  },
  {
   "cell_type": "code",
   "execution_count": 10,
   "id": "6c1eef22-62bb-4694-b291-b0994456658e",
   "metadata": {},
   "outputs": [
    {
     "data": {
      "text/plain": [
       "10"
      ]
     },
     "execution_count": 10,
     "metadata": {},
     "output_type": "execute_result"
    }
   ],
   "source": [
    "a"
   ]
  },
  {
   "cell_type": "code",
   "execution_count": 11,
   "id": "df307609-6c3b-4e9c-9c42-9d4349ad9c1e",
   "metadata": {},
   "outputs": [],
   "source": [
    "a=20"
   ]
  },
  {
   "cell_type": "code",
   "execution_count": 12,
   "id": "4ada7a0c-9072-441f-9961-99f7db90a2e2",
   "metadata": {},
   "outputs": [
    {
     "data": {
      "text/plain": [
       "20"
      ]
     },
     "execution_count": 12,
     "metadata": {},
     "output_type": "execute_result"
    }
   ],
   "source": [
    "a"
   ]
  },
  {
   "cell_type": "code",
   "execution_count": null,
   "id": "d7b86143-a246-40ad-bac3-a2d9f67f3ead",
   "metadata": {},
   "outputs": [],
   "source": []
  }
 ],
 "metadata": {
  "kernelspec": {
   "display_name": "Python 3 (ipykernel)",
   "language": "python",
   "name": "python3"
  },
  "language_info": {
   "codemirror_mode": {
    "name": "ipython",
    "version": 3
   },
   "file_extension": ".py",
   "mimetype": "text/x-python",
   "name": "python",
   "nbconvert_exporter": "python",
   "pygments_lexer": "ipython3",
   "version": "3.10.8"
  }
 },
 "nbformat": 4,
 "nbformat_minor": 5
}
